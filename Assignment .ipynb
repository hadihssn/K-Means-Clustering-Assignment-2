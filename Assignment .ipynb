{
 "cells": [
  {
   "cell_type": "code",
   "execution_count": 1,
   "id": "627eb691",
   "metadata": {},
   "outputs": [
    {
     "name": "stdout",
     "output_type": "stream",
     "text": [
      "Enter size of data: \n",
      "3\n",
      "Enter value for index:  1\n",
      "1\n",
      "Enter value for index:  2\n",
      "2\n",
      "Enter value for index:  3\n",
      "3\n",
      "List is [1, 2, 3]\n"
     ]
    }
   ],
   "source": [
    "list = []\n",
    "\n",
    "size = int(input(\"Enter size of data: \\n\"))\n",
    "\n",
    "for i in range(size):\n",
    "    print(\"Enter value for index: \", i+1)\n",
    "    element = int(input())\n",
    "    list.append(element)\n",
    "    \n",
    "print(\"List is\", list)"
   ]
  },
  {
   "cell_type": "code",
   "execution_count": 3,
   "id": "b6f335d4",
   "metadata": {
    "scrolled": true
   },
   "outputs": [
    {
     "name": "stdout",
     "output_type": "stream",
     "text": [
      "Old Centroid c1: 16 , Old Centroid c2: 22\n",
      "New Centroid c3: 2.0 , New Centroid c4: 22 \n",
      "\n",
      "Old Centroid c1: 2.0 , Old Centroid c2: 22\n",
      "New Centroid c3: 2.0 , New Centroid c4: 22 \n",
      "\n",
      "\n",
      "Program Ended Successfully\n",
      "\n"
     ]
    }
   ],
   "source": [
    "# c1 = int(input(\"Enter Centroid 1: \\n\"))\n",
    "# c2 = int(input(\"Enter Centroid 2: \\n\"))\n",
    "\n",
    "c1 = 16\n",
    "c2 = 22\n",
    "\n",
    "c3 = c4 = 0  \n",
    "\n",
    "count1 = 0\n",
    "\n",
    "while count1 == 0:\n",
    "    \n",
    "    summ = summ2 = 0\n",
    "    el2 = 0\n",
    "    el1 = 0\n",
    "    average = 0\n",
    "    average2 = 0\n",
    "    group1 = []\n",
    "    group2 = []\n",
    "    \n",
    "    for i in range(len(list)):\n",
    "        \n",
    "        x = int(list[i]) - c1\n",
    "        x = abs(x)\n",
    "     \n",
    "        y = int(list[i]) - c2\n",
    "        y = abs(y)\n",
    "            \n",
    "        if(x > y):\n",
    "            group2.append(list[i])\n",
    "            el2 += 1\n",
    "            \n",
    "        elif (x < y):\n",
    "            group1.append(list[i])\n",
    "            el1 += 1\n",
    "            \n",
    "        else:\n",
    "            el2 += 1\n",
    "            group2.append(list[i])\n",
    "\n",
    "    if(el1 != 0):\n",
    "        for i in range(el1):\n",
    "            summ += group1[i]\n",
    "            \n",
    "        average = summ / el1\n",
    "        c3 = average\n",
    "        \n",
    "    else:\n",
    "        c3 = c1\n",
    "    \n",
    "    if(el2 != 0):\n",
    "        for i in range(el2):\n",
    "            summ2 += group2[i]\n",
    "            \n",
    "        average2 = summ2 / el2\n",
    "        c4 = average2\n",
    "        \n",
    "    else:\n",
    "        c4 = c2\n",
    "        \n",
    "    print(\"Old Centroid c1:\", c1,\", Old Centroid c2:\", c2)\n",
    "    print(\"New Centroid c3:\", c3,\", New Centroid c4:\", c4,\"\\n\")\n",
    "    \n",
    "    if(c1 == c3 and c2 == c4):\n",
    "        count1 += 1\n",
    "    else:\n",
    "        c1 = c3\n",
    "        c2 = c4\n",
    "        \n",
    "print(\"\\nProgram Ended Successfully\\n\")"
   ]
  },
  {
   "cell_type": "code",
   "execution_count": null,
   "id": "5d517b87",
   "metadata": {},
   "outputs": [],
   "source": []
  }
 ],
 "metadata": {
  "kernelspec": {
   "display_name": "Python 3 (ipykernel)",
   "language": "python",
   "name": "python3"
  },
  "language_info": {
   "codemirror_mode": {
    "name": "ipython",
    "version": 3
   },
   "file_extension": ".py",
   "mimetype": "text/x-python",
   "name": "python",
   "nbconvert_exporter": "python",
   "pygments_lexer": "ipython3",
   "version": "3.9.7"
  }
 },
 "nbformat": 4,
 "nbformat_minor": 5
}
